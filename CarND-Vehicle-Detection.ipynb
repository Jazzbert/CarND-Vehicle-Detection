{
 "cells": [
  {
   "cell_type": "markdown",
   "metadata": {
    "deletable": true,
    "editable": true
   },
   "source": [
    "# Self-Driving Car Engineer Nanodegree\n",
    "\n",
    "## Computer Vision and Deep Learning\n",
    "\n",
    "### Project: Vehicle Detection\n",
    "\n",
    "This notebook contains the implementation of the Vehicle Detection project.  The overall goal of this project is to develop a pipeline that will identify vehicles in the view by placing a rectangle around the vehicle.  The project should take steps to minimize false-positives."
   ]
  },
  {
   "cell_type": "markdown",
   "metadata": {
    "deletable": true,
    "editable": true
   },
   "source": [
    "# Step 0: Import Statements and Global Variables\n"
   ]
  },
  {
   "cell_type": "code",
   "execution_count": 1,
   "metadata": {
    "collapsed": false,
    "deletable": true,
    "editable": true
   },
   "outputs": [
    {
     "name": "stdout",
     "output_type": "stream",
     "text": [
      "MatPlotLib: 2.0.0\n",
      "Numpy: 1.12.0\n",
      "CV2: 3.1.0\n",
      "Sklearn: 0.18\n",
      "Skimage: 0.12.3\n"
     ]
    }
   ],
   "source": [
    "'''Consolidated import statements'''\n",
    "import glob\n",
    "import time\n",
    "import matplotlib.image as mpimg\n",
    "import matplotlib.pyplot as plt\n",
    "from matplotlib import __version__ as matplotlib_version\n",
    "import numpy as np\n",
    "import cv2\n",
    "from sklearn.svm import LinearSVC\n",
    "from sklearn.preprocessing import StandardScaler, MinMaxScaler\n",
    "from skimage.feature import hog\n",
    "from sklearn.model_selection import train_test_split\n",
    "from sklearn.model_selection import GridSearchCV\n",
    "from sklearn import __version__ as sklearn_version\n",
    "from skimage import __version__ as skimage_version\n",
    "import pickle\n",
    "\n",
    "# Show versions\n",
    "print(\"MatPlotLib: \" + matplotlib_version)\n",
    "print(\"Numpy: \" + np.__version__)\n",
    "print(\"CV2: \" + cv2.__version__)\n",
    "print(\"Sklearn: \" + sklearn_version)\n",
    "print(\"Skimage: \" + skimage_version)\n"
   ]
  },
  {
   "cell_type": "markdown",
   "metadata": {
    "deletable": true,
    "editable": true
   },
   "source": [
    "# Step 1: Import and Review Labeled Data"
   ]
  },
  {
   "cell_type": "code",
   "execution_count": 2,
   "metadata": {
    "collapsed": false,
    "deletable": true,
    "editable": true
   },
   "outputs": [
    {
     "name": "stdout",
     "output_type": "stream",
     "text": [
      "Number of car samples: 8792\n",
      "Number of non-car samples: 8968\n",
      "Size of first car image: (64, 64, 3)\n",
      "Size of first non-car image: (64, 64, 3)\n"
     ]
    },
    {
     "data": {
      "image/png": "[encoded data removed]",
      "text/plain": [
       "<matplotlib.figure.Figure at 0x7ff00403fe80>"
      ]
     },
     "metadata": {},
     "output_type": "display_data"
    }
   ],
   "source": [
    "'''\n",
    "This cell creates functions to open labeled data to be used to create a classifier \n",
    "and provides basic statistics\n",
    "'''\n",
    "\n",
    "def get_images(vehicle_path='./labeled_data/vehicles/', non_vehicle_path='./labeled_data/non-vehicles/',\n",
    "               file_type='png'):\n",
    "    '''\n",
    "    This function gets list vehicle and non-vehicle images returning two lists accordingly\n",
    "    \n",
    "    Parameters\n",
    "    ----------\n",
    "    vehicle_path : string, optional\n",
    "        Path to the vehicle images\n",
    "    on_vehicle_path : string, optional\n",
    "        Path to the non-vehicle images\n",
    "    file_type : string, optional\n",
    "        File extension to search for in path\n",
    "        \n",
    "    Returns\n",
    "    -------\n",
    "    cars : list\n",
    "        List of vehicle image files\n",
    "    notcars : list\n",
    "        List of non-vehicle files\n",
    "    '''\n",
    "    # Identify path to find image names and find images of the correct type\n",
    "    search_string = vehicle_path + '**/*.' + file_type\n",
    "    v_imgs = glob.glob(search_string, recursive=True)\n",
    "    \n",
    "    # Add images to list\n",
    "    cars = []\n",
    "    for i in v_imgs:\n",
    "        cars.append(i)\n",
    "        \n",
    "    search_string = non_vehicle_path + '**/*.' + file_type\n",
    "    nv_imgs = glob.glob(search_string, recursive=True)\n",
    "    notcars = []\n",
    "    for i in nv_imgs:\n",
    "        notcars.append(i)\n",
    "        \n",
    "    return cars, notcars\n",
    "\n",
    "def show_classification_image_stats(cars, notcars):\n",
    "    '''\n",
    "    This test function displays to output some basic statistics and info on classification images\n",
    "    Args:\n",
    "        cars: list of vehicle image files\n",
    "        notcars: list of non-vehicle files\n",
    "    Returns: Nothing\n",
    "    '''\n",
    "    print(\"Number of car samples: {}\".format(len(cars)))\n",
    "    print(\"Number of non-car samples: {}\".format(len(notcars)))\n",
    "    \n",
    "    carimg0 = mpimg.imread(cars[0])\n",
    "    notcarimg0 = mpimg.imread(notcars[0])\n",
    "    print(\"Size of first car image: {}\".format(carimg0.shape))\n",
    "    print(\"Size of first non-car image: {}\".format(notcarimg0.shape))\n",
    "    \n",
    "    f, (ax1, ax2) = plt.subplots(1, 2, sharey=True)\n",
    "    ax1.imshow(carimg0)\n",
    "    ax2.imshow(notcarimg0)\n",
    "    ax1.set_title('Example Images')\n",
    "    plt.show()\n",
    "    \n",
    "cars, notcars = get_images()\n",
    "show_classification_image_stats(cars, notcars)\n"
   ]
  },
  {
   "cell_type": "markdown",
   "metadata": {
    "deletable": true,
    "editable": true
   },
   "source": [
    "# Step 2: Build Feature Extraction Functions"
   ]
  },
  {
   "cell_type": "code",
   "execution_count": 3,
   "metadata": {
    "collapsed": false,
    "deletable": true,
    "editable": true
   },
   "outputs": [],
   "source": [
    "### This cell defines a class for the classification model.  The object for this class will hold various\n",
    "### parameters that will be tuned for the classifiers used.\n",
    "class ClassifierModel():\n",
    "    def __init__(self):\n",
    "        # The following object variables are based on initial defaults and will be tweaked\n",
    "        self.hog_colorspace = 'HLS' # Can be RGB, HSV, LUV, HLS, YUV, YCrCb\n",
    "        self.orient = 9\n",
    "        self.pix_per_cell = 8\n",
    "        self.cell_per_block = 2\n",
    "        self.hog_channel = 'ALL' # Can be 0, 1, 2, or 'ALL'\n",
    "        self.test_size = 0.2\n",
    "        \n",
    "        # These settings are based on SVC Tuning done in the next step\n",
    "        self.svc_loss = 'squared_hinge'\n",
    "        self.svc_C = 1.0 #0.0001\n",
    "        self.svc_tol = 1e-4 #1e-10 # Lower values increase accuracy but increase training time as well\n",
    "\n",
    "        # Training/test and classifier data (initially blank)\n",
    "        self.X_train = []\n",
    "        self.X_test = []\n",
    "        self.y_train = []\n",
    "        self.y_test = []\n",
    "        self.svc = None\n",
    "\n",
    "    \n",
    "    def get_hog_features(self, img, orient, pix_per_cell, cell_per_block, vis=False, feature_vec=True):\n",
    "        '''\n",
    "        This function returns HOG features from an image based on provided parameteres\n",
    "        Args:\n",
    "            img: ndarray, image to be processed\n",
    "            orient: int, number of orientation bins\n",
    "            pix_per_cell: int, size in pixels of a cell (used for both height and width)\n",
    "            cell_per_block: int, number of cells in each block (used for height and width)\n",
    "            vis: bool, default=False, returns image of the HOG features\n",
    "            feature_vec: bool, default=True, returns data as feature vector\n",
    "        Returns:\n",
    "            features: HOG features (flattened if feature_vec==True)\n",
    "            hog_image: visualization of HOG features, only returned if vis==True\n",
    "        '''\n",
    "        # Call with two outputs if vis==True\n",
    "        if vis:\n",
    "            features, hog_image = hog(img, orientations=orient, pixels_per_cell=(pix_per_cell, pix_per_cell),\n",
    "                                      cells_per_block=(cell_per_block, cell_per_block), transform_sqrt=True,\n",
    "                                      visualise=vis, feature_vector=feature_vec)\n",
    "            return features, hog_image\n",
    "        # Otherwise call with one output\n",
    "        else:\n",
    "            features = hog(img, orientations=orient, pixels_per_cell=(pix_per_cell, pix_per_cell),\n",
    "                           cells_per_block=(cell_per_block, cell_per_block), transform_sqrt=True,\n",
    "                           visualise=vis, feature_vector=feature_vec)\n",
    "            return features\n",
    "\n",
    "    \n",
    "    def extract_all_features(self, imgs, extract_hog=True):\n",
    "        # Loop through each image to get all features\n",
    "        all_features = []\n",
    "        for file in imgs:\n",
    "            # Read in image\n",
    "            image = mpimg.imread(file)\n",
    "            # Cycle through each feature type, and pull features based on provided parameters\n",
    "            if extract_hog:\n",
    "                # Convert color if appropriate\n",
    "                feature_image = self.cvt_from_rgb(image, self.hog_colorspace)\n",
    "                # Call get_hog_features() with vis=False, feature_vec=True\n",
    "                if self.hog_channel == 'ALL':\n",
    "                    hog_features = []\n",
    "                    for channel in range(feature_image.shape[2]):\n",
    "                        hog_features.append(self.get_hog_features(feature_image[:,:,channel],\n",
    "                                                                  self.orient, self.pix_per_cell, \n",
    "                                                                  self.cell_per_block,\n",
    "                                                                  vis=False, feature_vec=True))\n",
    "                    hog_features = np.ravel(hog_features)\n",
    "                else:\n",
    "                    hog_features = self.get_hog_features(feature_image[:,:,self.hog_channel], self.orient,\n",
    "                                                         self.pix_per_cell, self.cell_per_block, \n",
    "                                                         vis=False, feature_vec=True)\n",
    "                    \n",
    "            \n",
    "            # Combine all features into single featurelist for the image\n",
    "            # TODO Only one feature type for now....\n",
    "            all_features.append(hog_features)\n",
    "            \n",
    "            \n",
    "        # Return final feature list for all images\n",
    "        return all_features\n",
    "        \n",
    "\n",
    "    def cvt_from_rgb(self, image, cspace):\n",
    "        # Apply color conversion if other than 'RGB'\n",
    "        if cspace != 'RGB':\n",
    "            if cspace == 'HSV':\n",
    "                feature_image = cv2.cvtColor(image, cv2.COLOR_RGB2HSV)\n",
    "            elif cspace == 'LUV':\n",
    "                feature_image = cv2.cvtColor(image, cv2.COLOR_RGB2LUV)\n",
    "            elif cspace == 'HLS':\n",
    "                feature_image = cv2.cvtColor(image, cv2.COLOR_RGB2HLS)\n",
    "            elif cspace == 'YUV':\n",
    "                feature_image = cv2.cvtColor(image, cv2.COLOR_RGB2YUV)\n",
    "            elif cspace == 'YCrCb':\n",
    "                feature_image = cv2.cvtColor(image, cv2.COLOR_RGB2YCrCb)\n",
    "        else: feature_image = np.copy(image)\n",
    "\n",
    "        return feature_image    \n",
    "\n",
    "    \n",
    "    def rescale_features(self, features):\n",
    "        scaler = StandardScaler()\n",
    "        new_features = scaler.fit_transform(features)\n",
    "        return new_features\n",
    "    \n",
    "    def build_train_test_set(self, car, notcar):\n",
    "        # Get car and non-car features features\n",
    "        car_features = self.extract_all_features(car)\n",
    "        notcar_features = self.extract_all_features(notcar)\n",
    "        \n",
    "        # Create an array stack of feature vectors\n",
    "        X = np.vstack((car_features, notcar_features)).astype(np.float64)\n",
    "        \n",
    "        # Replace any non-numerical values\n",
    "        X = np.nan_to_num(X)\n",
    "        \n",
    "        # Scale all features\n",
    "        scaled_X = self.rescale_features(X)\n",
    "        \n",
    "        # Define the labels vector\n",
    "        y = np.hstack((np.ones(len(car_features)), np.zeros(len(notcar_features))))\n",
    "        \n",
    "        # Split up data into randomized training and test sets\n",
    "        rand_state = np.random.randint(0, 100)\n",
    "        self.X_train, self.X_test, self.y_train, self.y_test = train_test_split(\n",
    "            scaled_X, y, test_size=self.test_size, random_state=rand_state)\n",
    "        \n",
    "        return\n",
    "            \n",
    "    def create_classifier(self):\n",
    "        assert self.X_train.size > 0 and self.y_train.size > 0\n",
    "        self.svc = LinearSVC(loss=self.svc_loss, C=self.svc_C, tol=self.svc_tol)\n",
    "        self.svc.fit(self.X_train, self.y_train)\n",
    "        \n",
    "        "
   ]
  },
  {
   "cell_type": "code",
   "execution_count": 20,
   "metadata": {
    "collapsed": false,
    "deletable": true,
    "editable": true
   },
   "outputs": [
    {
     "name": "stdout",
     "output_type": "stream",
     "text": [
      "[[-5.52455425 -5.61140347 -6.18676758 ..., -5.1238575  -5.36248541\n",
      "  -6.4206996 ]\n",
      " [-4.40954065 -5.52455425 -6.32874441 ..., -5.69853067 -5.52590179\n",
      "  -6.4272604 ]\n",
      " [-3.34628272 -5.12353468 -6.57847357 ..., -6.11012459 -4.9431119\n",
      "  -6.01562405]\n",
      " ..., \n",
      " [ 1.87055862  1.86160731  1.27488399 ..., -2.13210583 -4.23529673\n",
      "  -1.94025433]\n",
      " [ 2.63021636  2.02612734  3.72190118 ..., -1.06789577 -3.12067533\n",
      "  -1.94025433]\n",
      " [ 1.97438943  1.97438943  2.57649827 ..., -1.62441039 -3.11699033\n",
      "  -1.94025433]]\n"
     ]
    }
   ],
   "source": [
    "test_img = mpimg.imread(cars[99])\n",
    "test_c = ClassifierModel()\n",
    "test_img_luv = test_c.cvt_from_rgb(test_img, 'LUV')\n",
    "print(test_img_luv[:,:,1])"
   ]
  },
  {
   "cell_type": "code",
   "execution_count": 30,
   "metadata": {
    "collapsed": false,
    "deletable": true,
    "editable": true
   },
   "outputs": [
    {
     "name": "stdout",
     "output_type": "stream",
     "text": [
      "1764\n",
      "[        nan         nan         nan ...,  0.00688125  0.00624748  0.        ]\n"
     ]
    },
    {
     "name": "stderr",
     "output_type": "stream",
     "text": [
      "/root/miniconda3/envs/carnd-term1/lib/python3.5/site-packages/skimage/feature/_hog.py:88: RuntimeWarning: invalid value encountered in sqrt\n",
      "  image = np.sqrt(image)\n"
     ]
    }
   ],
   "source": [
    "### Cell for testing Class methods\n",
    "def test_cvt_from_rgb():\n",
    "    clsfr = ClassifierModel()\n",
    "    img = mpimg.imread(cars[0])\n",
    "    img_hls = clsfr.cvt_from_rgb(img, 'HLS')\n",
    "    img_luv = clsfr.cvt_from_rgb(img, 'LUV')\n",
    "    \n",
    "    f, (ax1, ax2, ax3) = plt.subplots(1, 3, sharey=True)\n",
    "    ax1.imshow(img)\n",
    "    ax1.set_title('Original')\n",
    "    ax2.imshow(img_hls)\n",
    "    ax2.set_title('HLS')\n",
    "    ax3.imshow(img_luv)\n",
    "    ax3.set_title('LUV')\n",
    "    plt.show()\n",
    "    \n",
    "def test_get_hog_features():\n",
    "    clsfr = ClassifierModel()\n",
    "    # Troubleshooting extraing channel 2 features for LUV images\n",
    "    clsfr.hog_colorspace = 'LUV'\n",
    "    clsfr.hog_channel = 2\n",
    "    features = clsfr.extract_all_features(cars[0:3], extract_hog=True)\n",
    "    \n",
    "    print(len(features[0]))\n",
    "    print(features[0])\n",
    "\n",
    "def test_rescale_features():\n",
    "    clsfr = ClassifierModel()\n",
    "    x = [[1, 3, 5], [8, 11, 19], [30, 49, 79]]\n",
    "    xmin = np.min(x)\n",
    "    xmax = np.max(x)\n",
    "    x_scaled = clsfr.rescale_features(x)\n",
    "    print(x_scaled)\n",
    "    x_s_min = np.min(x_scaled)\n",
    "    x_s_max = np.max(x_scaled)\n",
    "    print(\"Test variable old min/max: {}/{}; New min/max: {}/{}\".format(xmin, xmax, x_s_min, x_s_max))\n",
    "    \n",
    "    features = clsfr.extract_all_features(cars[0:3], extract_hog=True)\n",
    "    fmin = np.min(features)\n",
    "    fmax = np.max(features)\n",
    "    f_scaled = clsfr.rescale_features(features)\n",
    "    f_s_min = np.min(f_scaled)\n",
    "    f_s_max = np.max(f_scaled)\n",
    "    print(\"Features old min/max: {}/{}; New min/max: {}/{}\".format(fmin, fmax, f_s_min, f_s_max))\n",
    "    \n",
    "def test_build_train_test_set():\n",
    "    clsfr = ClassifierModel()\n",
    "    t1 = time.time()\n",
    "    clsfr.build_train_test_set(cars, notcars)\n",
    "    t2 = time.time()\n",
    "    print(round(t2-t1, 2), 'seconds to create train/test set')\n",
    "    print(\"Shapes - X_train: {}, X_test: {}, y_train: {}, y_test: {}\".format(\n",
    "        clsfr.X_train.shape, clsfr.X_test.shape, \n",
    "        clsfr.y_train.shape, clsfr.y_test.shape))\n",
    "\n",
    "def test_create_classifier():\n",
    "    clsfr = ClassifierModel()\n",
    "    clsfr.build_train_test_set(cars, notcars)\n",
    "    t2 = time.time()\n",
    "    clsfr.create_classifier()\n",
    "    t3 = time.time()\n",
    "    print(round(t3-t2, 2), 'seconds to create classifier')\n",
    "    print('Test Accuracy of SVC = ', round(clsfr.svc.score(clsfr.X_test, clsfr.y_test), 4))\n",
    "    n_predict = 10\n",
    "    print('My SVC predicts: ', clsfr.svc.predict(clsfr.X_test[0:n_predict]))\n",
    "    print('For these', n_predict, 'labels: ', clsfr.y_test[0:n_predict])\n",
    "    t4 = time.time()\n",
    "    print(round(t4-t3, 5), 'seconds to predict', n_predict, 'labels with SVC')\n",
    "    \n",
    "\n",
    "#test_cvt_from_rgb()\n",
    "test_get_hog_features()\n",
    "#test_rescale_features()\n",
    "#test_build_train_test_set()\n",
    "#test_create_classifier()"
   ]
  },
  {
   "cell_type": "markdown",
   "metadata": {
    "deletable": true,
    "editable": true
   },
   "source": [
    "# Step 3: Optimize Classifier Training"
   ]
  },
  {
   "cell_type": "code",
   "execution_count": null,
   "metadata": {
    "collapsed": false,
    "deletable": true,
    "editable": true
   },
   "outputs": [
    {
     "name": "stdout",
     "output_type": "stream",
     "text": [
      "This tuning has 504 iterations:\n",
      "1 - HLS, 6, 4, 2, 0 - 0.894988738739\n",
      "2 - HLS, 6, 4, 2, 1 - 0.938907657658\n",
      "3 - HLS, 6, 4, 2, 2 - 0.872184684685\n",
      "4 - HLS, 6, 4, 2, ALL - 0.972128378378\n",
      "5 - HLS, 9, 4, 2, ALL - "
     ]
    }
   ],
   "source": [
    "def tune_hog_features():\n",
    "    clsfr = ClassifierModel()\n",
    "    \n",
    "    p_grid = {'hog_colorspace': ['HLS', 'RGB', 'HSV', 'LUV', 'HLS', 'YUV', 'YCrCb'],\n",
    "              'orient': [6, 9, 12],\n",
    "              'pix_per_cell': [4, 8, 12],\n",
    "              'cell_per_block': [2, 4],\n",
    "              'hog_channel': [0, 1, 2, 'ALL']}\n",
    "    \n",
    "    # Show how many iterations for tuning\n",
    "    iter_count = 1\n",
    "    for k, v in p_grid.items():\n",
    "        iter_count *= len(v)\n",
    "    print(\"This tuning has {} iterations:\".format(iter_count))\n",
    "    \n",
    "    results = {}\n",
    "    results = run_parameter_options(clsfr, p_grid, results)\n",
    "    max_param = max(results.keys(), key=(lambda k: results[k]))\n",
    "    print(\"Best parameters with a score of {:.3f} were: \".format(results[max_param]))\n",
    "    print(max_param)\n",
    "    with open('./hog_tune_results.pickle', 'wb') as h:\n",
    "        pickle.dump(results, h)\n",
    "\n",
    "def run_parameter_options(cls, grid, results):\n",
    "    \n",
    "    param_name = list(grid.keys())[0]\n",
    "    param_list = grid[param_name]\n",
    "    \n",
    "    local_grid = grid.copy()\n",
    "    first_iter = True\n",
    "    for p in param_list:\n",
    "        if isinstance(p, str): p = \"'\" + p + \"'\"\n",
    "        exec('cls.' + param_name + '=' + str(p))\n",
    "        \n",
    "        if len(local_grid) > 1:\n",
    "            if param_name in local_grid:\n",
    "                del local_grid[param_name]\n",
    "    \n",
    "            results = (run_parameter_options(cls, local_grid, results))\n",
    "        \n",
    "        else:\n",
    "            key = ', '\n",
    "            key = key.join([cls.hog_colorspace, str(cls.orient), str(cls.pix_per_cell), \n",
    "                           str(cls.cell_per_block), str(cls.hog_channel)])\n",
    "            print((len(results) + 1), '-', key, '- ', end='')\n",
    "\n",
    "            cls.build_train_test_set(cars, notcars)\n",
    "            cls.create_classifier()\n",
    "            results[key] = cls.svc.score(cls.X_test, cls.y_test)\n",
    "            print(results[key])\n",
    "            \n",
    "    return results\n",
    "    \n",
    "tune_hog_features()"
   ]
  },
  {
   "cell_type": "code",
   "execution_count": 29,
   "metadata": {
    "collapsed": false,
    "deletable": true,
    "editable": true
   },
   "outputs": [
    {
     "name": "stderr",
     "output_type": "stream",
     "text": [
      "/root/miniconda3/envs/carnd-term1/lib/python3.5/site-packages/skimage/feature/_hog.py:88: RuntimeWarning: invalid value encountered in sqrt\n",
      "  image = np.sqrt(image)\n"
     ]
    },
    {
     "name": "stdout",
     "output_type": "stream",
     "text": [
      "(1764,)\n",
      "[        nan         nan         nan ...,  0.00688125  0.00624748  0.        ]\n"
     ]
    },
    {
     "data": {
      "image/png": "[encoded data removed]",
      "text/plain": [
       "<matplotlib.figure.Figure at 0x7f9ee0224fd0>"
      ]
     },
     "metadata": {},
     "output_type": "display_data"
    }
   ],
   "source": [
    "test_c = ClassifierModel()\n",
    "t_img = mpimg.imread(cars[0])\n",
    "t_img_luv = test_c.cvt_from_rgb(t_img, 'LUV')\n",
    "t_img_u = t_img_luv[:,:,2]\n",
    "\n",
    "test_features = test_c.get_hog_features(t_img_u, test_c.orient, test_c.pix_per_cell, \n",
    "                                        test_c.cell_per_block, vis=False, feature_vec=True)\n",
    "print(test_features.shape)\n",
    "print(test_features)\n",
    "\n",
    "f, (ax1, ax2) = plt.subplots(1, 2, sharey=True)\n",
    "ax1.imshow(t_img_luv)\n",
    "ax2.imshow(t_img_u)\n",
    "plt.show()"
   ]
  },
  {
   "cell_type": "code",
   "execution_count": 12,
   "metadata": {
    "collapsed": false,
    "deletable": true,
    "editable": true
   },
   "outputs": [
    {
     "name": "stdout",
     "output_type": "stream",
     "text": [
      "Buidling data set...\n",
      "Starting grid search...\n",
      "1444.89 seconds to run GridSearchCV\n",
      "Best parameters: \n",
      " {'tol': 1e-20, 'C': 0.0001, 'loss': 'squared_hinge'}\n",
      "Final accuracy:  0.986486486486\n"
     ]
    }
   ],
   "source": [
    "def tune_SVC_classifier():\n",
    "    clsfr = ClassifierModel()\n",
    "    print('Buidling data set...')\n",
    "    clsfr.build_train_test_set(cars, notcars)\n",
    "    \n",
    "    # Set up possible parameter values\n",
    "    p_grid = {'C': [0.0000001, 0.00001, 0.0001, 0.1],\n",
    "              'loss': ['hinge', 'squared_hinge'],\n",
    "              'tol': [1e-20, 1e-15, 1e-12, 1e-10]}\n",
    "    \n",
    "    clsfr.svc = LinearSVC()\n",
    "    print('Starting grid search...')\n",
    "    t1 = time.time()\n",
    "    clf = GridSearchCV(clsfr.svc, p_grid)\n",
    "    clf.fit(clsfr.X_train, clsfr.y_train)\n",
    "    t2 = time.time()\n",
    "    print(round(t2-t1, 2), 'seconds to run GridSearchCV')\n",
    "    print('Best parameters: \\n', clf.best_params_)\n",
    "    print('Final accuracy: ', clf.score(clsfr.X_test, clsfr.y_test))\n",
    "    \n",
    "    \n",
    "tune_SVC_classifier()    \n",
    "    "
   ]
  },
  {
   "cell_type": "markdown",
   "metadata": {
    "deletable": true,
    "editable": true
   },
   "source": [
    "# Step 4: Create Sliding Window Identifier on Test Images"
   ]
  },
  {
   "cell_type": "markdown",
   "metadata": {
    "deletable": true,
    "editable": true
   },
   "source": [
    "# Step 5: Implement Heat Map Flow to Consolidate Regions and Eliminate False Positives"
   ]
  },
  {
   "cell_type": "markdown",
   "metadata": {
    "deletable": true,
    "editable": true
   },
   "source": [
    "# Step 6: Create Video Pipeline"
   ]
  },
  {
   "cell_type": "markdown",
   "metadata": {
    "deletable": true,
    "editable": true
   },
   "source": []
  }
 ],
 "metadata": {
  "kernelspec": {
   "display_name": "Python 3",
   "language": "python",
   "name": "python3"
  },
  "language_info": {
   "codemirror_mode": {
    "name": "ipython",
    "version": 3
   },
   "file_extension": ".py",
   "mimetype": "text/x-python",
   "name": "python",
   "nbconvert_exporter": "python",
   "pygments_lexer": "ipython3",
   "version": "3.5.2"
  },
  "widgets": {
   "state": {},
   "version": "1.1.2"
  }
 },
 "nbformat": 4,
 "nbformat_minor": 2
}
